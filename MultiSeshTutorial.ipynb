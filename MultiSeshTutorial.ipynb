{
 "cells": [
  {
   "cell_type": "markdown",
   "id": "30be1da2-4db5-4e29-890a-eedea5d6e3a1",
   "metadata": {},
   "source": [
    "# Multisesh\n",
    "Multisesh is a python package which aims to simplify the processing and analysis of complex microsopy datasets by:\n",
    "* standardising image and metadata loding across microscope data file types\n",
    "* allowing the combination of arbitrary numbers and types of datasets into one organised object - 'multiple-sessions'\n",
    "* allowing any arbitrary section (z-slice, channel, field etc) of data to be loaded independently (aiding memory management and algorithmic processing)\n",
    "* providing simple in-notebook data viewing\n",
    "* providing common processing functions (and easily extensible)\n",
    "* allowing saving and reopening of processed image data (i.e. for saving processing image results or mid-points in analysis)"
   ]
  },
  {
   "cell_type": "markdown",
   "id": "4a2bbd0b-9ef7-425e-b11e-97f7c6a9feec",
   "metadata": {},
   "source": [
    "# Multisesh structure details"
   ]
  },
  {
   "cell_type": "markdown",
   "id": "05fa6469-f880-4690-9f7e-623066410360",
   "metadata": {
    "jp-MarkdownHeadingCollapsed": true
   },
   "source": [
    "Multisesh works via a simple hierarchical structure of 3 python objects:\n",
    "* **XFold** - 'experiment folder'\n",
    "  * lightweight object containing organised info about all data in the folder you specify\n",
    "  * there are some functions that act on this to just process the whole folder (though then you have less control analysis)\n",
    "  * all data in the folder is organised into 'Sessions' which are stored in the XFold...\n",
    "<br>\n",
    "<br>\n",
    "* **Session**\n",
    "  * there is one of these 'Session' objects to represent each imaging session found in the provided folder\n",
    "  * by imaging session we mean one imaging protocol run by a microscope\n",
    "    * can think of it essentially as each time the user has pressed 'go'\n",
    "    * i.e. it can be multiple files if this how the microscope saves an imaging session\n",
    "    * ...or one file can contain multiple Sessions, e.g. .lif format sometimes does that\n",
    "    * the key definition is one Session must be fully described by one metadata, e.g. with one shape (no. of time points/z-slices/channels...)\n",
    "    * more technically: the data of one Session must be non-jagged so could fit in a standard numpy array\n",
    "  * all Sessions are found in the list: xfold.SessionsList (ordered by the time they were aquired)\n",
    "  * this Session object holds the metadata, e.g. Session.Shape, ...\n",
    "  * otherwise it is also a lightweight object with no actual pixel data in it\n",
    "<br>\n",
    "<br>\n",
    "* **TData** - 'the data' :)\n",
    "  * this is the object that contains your data: TData.data is a numpy array of your data\n",
    "  * also contains all the relevant metadata for that part of the image data\n",
    "  * you build a TData from an XFold or Session, specifying what bit of the Session you want: tdata = XFold.makeTData(S=,Z=..,C=...)\n",
    "  * where S is the Session number\n",
    "  * the data is always in the same 7D format: (T,F,M,Z,C,Y,X)\n",
    "    * T: time-points\n",
    "    * F: fields (e.g. multi-position images)\n",
    "    * M: montage tiles\n",
    "    * Z: z-slices\n",
    "    * C: channels\n",
    "    * Y,X: 2D image coordinates\n",
    "  * functions apply directly to this object to change it, e.g. TData.zProject(),TData.SaveData()..."
   ]
  },
  {
   "cell_type": "markdown",
   "id": "06534535-43ba-406e-9f5f-bf6972f88383",
   "metadata": {},
   "source": [
    "# Environment setup"
   ]
  },
  {
   "cell_type": "markdown",
   "id": "a7653e52-8e1a-4b8d-844d-b457f3cf5769",
   "metadata": {},
   "source": [
    "### Basic (no YOLOSAM or Cellpose)"
   ]
  },
  {
   "cell_type": "markdown",
   "id": "f7f0f6e6-22d1-42bc-a238-0602870bca80",
   "metadata": {},
   "source": [
    "create basic environment:\n",
    "\n",
    "```console\n",
    "conda create -n multisesh python=3.11.4\n",
    "conda activate multisesh\n",
    "```\n",
    "then navigate to the package folder (where pyproject.toml is located):\n",
    "\n",
    "```console\n",
    "pip install -e .\n",
    "```\n",
    "\n",
    "That should be everything!"
   ]
  },
  {
   "cell_type": "markdown",
   "id": "bb3ecff2-0609-4b83-b559-361864568283",
   "metadata": {},
   "source": [
    "### Environment allowing YOLOSAM"
   ]
  },
  {
   "cell_type": "markdown",
   "id": "e7024ab9-5386-484b-9f13-7fcccacf5080",
   "metadata": {},
   "source": [
    "```console\n",
    "conda create -n yolosam jupyterlab \n",
    "conda activate yolosam\n",
    "```\n",
    "then copy commnd to install pytorch for your system from here: https://pytorch.org/get-started/locally/\n",
    "usually something like:\n",
    "\n",
    "```console\n",
    "conda install pytorch torchvision torchaudio pytorch-cuda=12.1 -c pytorch -c nvidia\n",
    "```\n",
    "\n",
    "then some others we need:\n",
    "\n",
    "```console\n",
    "conda install conda-forge::segment-anything \n",
    "conda install conda-forge::ultralytics \n",
    "conda install anaconda::dill\n",
    "```\n",
    "\n",
    "then navigate to the package folder (where setup.py is located):\n",
    "\n",
    "```console\n",
    "pip install -e .\n",
    "```\n",
    "\n",
    "That should be everything! There is one little error that currently shows during the pip install but it seems to work fine"
   ]
  },
  {
   "cell_type": "markdown",
   "id": "a270dc26-9188-4638-a6b1-851a3a4cf3ad",
   "metadata": {},
   "source": [
    "# Load experiment"
   ]
  },
  {
   "cell_type": "markdown",
   "id": "4c570c10-0e43-4316-aeaa-40fbbb642a41",
   "metadata": {},
   "source": [
    "supported datatypes/microscopes so far:\n",
    "* czi\n",
    "* lif\n",
    "* nd2\n",
    "* Opera\n",
    "* Incucyte\n",
    "* Andor\n",
    "* OME\n",
    "* Micromanager\n",
    "* General tiffs\n",
    "\n",
    "BUT: within these filetypes there are some things that aren't supported yet. E.g. I haven't ever worked with a lif file containing multiple time-points so haven't been able to see how to read that properly. These things are fast to add so let me know if you have examples!"
   ]
  },
  {
   "cell_type": "markdown",
   "id": "37018103-17a9-47b3-b651-5287cd374823",
   "metadata": {},
   "source": [
    "### Import multisesh"
   ]
  },
  {
   "cell_type": "code",
   "execution_count": 1,
   "id": "55551ddc-0505-4d01-83bc-799f0454f5d0",
   "metadata": {},
   "outputs": [],
   "source": [
    "import multisesh as ms"
   ]
  },
  {
   "cell_type": "markdown",
   "id": "d473cff6-6683-4cd5-9116-c64f081afe05",
   "metadata": {},
   "source": [
    "### Basic experiment loading"
   ]
  },
  {
   "cell_type": "code",
   "execution_count": 1,
   "id": "1d31faf2-c022-438f-88bd-1422a111b374",
   "metadata": {},
   "outputs": [],
   "source": [
    "root = r'./RawData' # put all your data in one folder and set this as the path (doesn't support multiple locations yet but wouldn't be hard fix)\n",
    "xfold = ms.XFold(root) # build your XFold object\n",
    "xfold.Summarise() # this prints a basic report of data it found"
   ]
  },
  {
   "cell_type": "markdown",
   "id": "1b6f79de-0ad8-4983-b75c-ccb1fe205aca",
   "metadata": {
    "jp-MarkdownHeadingCollapsed": true
   },
   "source": [
    "### Faster experiment loading for large datasets"
   ]
  },
  {
   "cell_type": "markdown",
   "id": "beadb396-4479-431d-9663-3d3b355985a9",
   "metadata": {},
   "source": [
    "If you have a large dataset that is taking more than a minute or so to load try this option. Multisesh looks in every file to check dimensions. Some microscopes save each frame separately so you end up with thousands of files so this takes ages. If they all have the same dimensions you can use this option to speed things up by skipping the checking."
   ]
  },
  {
   "cell_type": "code",
   "execution_count": null,
   "id": "295875cd-2752-44d4-acb6-a5cd55e57417",
   "metadata": {},
   "outputs": [],
   "source": [
    "import multisesh as ms\n",
    "\n",
    "root = r'./RawData' # put all your data in one folder (doesn't support multiple locations yet but wouldn't be hard fix)\n",
    "xfold = ms.XFold(root,assumeConstantDims=True) # build your XFold object\n",
    "xfold.Summarise() # basic report of data it found"
   ]
  },
  {
   "cell_type": "markdown",
   "id": "e08eb8fb-5bb7-43cc-9da4-c0e935f378e2",
   "metadata": {
    "jp-MarkdownHeadingCollapsed": true
   },
   "source": [
    "### Further loading options"
   ]
  },
  {
   "cell_type": "markdown",
   "id": "6db0d773-594d-4922-a16d-7380d9d055b2",
   "metadata": {},
   "source": [
    "Other options when loading include (see \\__doc__ for more details):\n",
    "* FieldIDMapList - let's you give names to fields\n",
    "* StartTimes - allows you to set a global time marking the start of the experiment (or e.g. when a compound was added) - can have different times for different Fields\n",
    "* Filters - ignore (i.e. don't load) files which contain any of the strings provided in this list"
   ]
  },
  {
   "cell_type": "code",
   "execution_count": null,
   "id": "fd11edd9-aa6d-4694-a992-38dce188075e",
   "metadata": {},
   "outputs": [],
   "source": [
    "root = r'./RawData' \n",
    "\n",
    "fieldIDMapList = [...] # give fields names, they will be used for saving and can be used instead of indices\n",
    "starttimes = [...] # set a global time time zero for the experiment (or differenet time zeros for different fields) \n",
    "filters = [] # ignore any files in root that contain any strings in this list\n",
    "\n",
    "xfold = ms.XFold(root,FieldIDMapList=fieldIDMapList,StartTimes=starttimes,Filters=filters) # build your XFold object\n",
    "xfold.Summarise() # basic report of data it found"
   ]
  },
  {
   "cell_type": "markdown",
   "id": "5f55d582-b143-44f5-b1cd-e6fa53ee48a1",
   "metadata": {},
   "source": [
    "# Load image data from experiment "
   ]
  },
  {
   "cell_type": "markdown",
   "id": "77fc885a-8454-4265-bdff-a5186f04812a",
   "metadata": {},
   "source": [
    "load image data by specifying the session S and section (T,F,M,Z,C)"
   ]
  },
  {
   "cell_type": "code",
   "execution_count": null,
   "id": "3e866ab2-cfea-479e-8289-088e8afe70f5",
   "metadata": {},
   "outputs": [],
   "source": [
    "tdata = xfold.makeTData(S=0,F=[0,4,7])"
   ]
  },
  {
   "cell_type": "code",
   "execution_count": null,
   "id": "8faa1b01-1463-45c5-8f0d-02070afb2006",
   "metadata": {},
   "outputs": [],
   "source": [
    "# an alternative way is to make a TData a Session, e.g. the Sessions stored in the XFold\n",
    "tdata2 = xfold.SessionsList[0].makeTData(F=[0,4,7])"
   ]
  },
  {
   "cell_type": "markdown",
   "id": "5badd2fd-065e-462c-aa51-e08f901c7859",
   "metadata": {},
   "source": [
    "# Visualise data"
   ]
  },
  {
   "cell_type": "markdown",
   "id": "5bec7a01-e398-4b8d-8e89-c0362a505f31",
   "metadata": {},
   "source": [
    "to enable data visualisation you may need to install widgets into jupyter notebooks:\n",
    "* \"View\" -> \"Extension Manager\"\n",
    "* on \"Warning\" and click \"Yes\"\n",
    "* click the search box and enter \"jupyterlab-widgets\" and click search\n",
    "* Install"
   ]
  },
  {
   "cell_type": "code",
   "execution_count": null,
   "id": "2042a5cc-66b4-4f57-af88-d1dde5cb5c88",
   "metadata": {},
   "outputs": [],
   "source": [
    "tdata.Plot()"
   ]
  },
  {
   "cell_type": "markdown",
   "id": "660bf794-d55c-474c-b742-24a4eb8bdf86",
   "metadata": {},
   "source": [
    "# Segmentation"
   ]
  },
  {
   "cell_type": "markdown",
   "id": "dba8aae7-8e7f-4e7f-8a25-ae8e150758b6",
   "metadata": {},
   "source": [
    "first example here applies YOLOSAM segmentation to all the data in the xfold"
   ]
  },
  {
   "cell_type": "code",
   "execution_count": null,
   "id": "4918fd71-5a50-4331-ac0d-3a52551ae8d8",
   "metadata": {},
   "outputs": [],
   "source": [
    "diameter = 14 # an estimate for the diameter of nuclei in your data in μm\n",
    "nuc_chan =0 # the index of the channel you want to segment (currently needs to be same channel in all Sessions)\n",
    "clearborder = True # where to remove moasks that touch image edge\n",
    "returnSegs = False # whether to return segmentations as a list of numpy arrays (one for each Session)\n",
    "outName = 'NuclearSegmentations' # the name of the folder to save the segmentations to (will be saved next to the raw data folder)\n",
    "\n",
    "xfold.YOLOSAM(diameter,nuc_chan,clear_borderQ=clearborder,returnSegmentations=returnSegs,saveMasks=outName)"
   ]
  },
  {
   "cell_type": "markdown",
   "id": "e3e3e6b6-5ed6-4d90-9e55-2f20eefb7463",
   "metadata": {},
   "source": [
    "this example applies YOLOSAM segmentation to one tdata... this is useful if you want to process the tdata in some way before the segmentation"
   ]
  },
  {
   "cell_type": "code",
   "execution_count": null,
   "id": "3a6ba608-8979-4c44-bb37-620c5eba91a3",
   "metadata": {},
   "outputs": [],
   "source": [
    "diameter = 14 # an estimate for the diameter of nuclei in your data in μm\n",
    "nuc_chan =0 # the index of the channel you want to segment within your tdata (check channel names with tdata.Chan)\n",
    "clearborder = True # where to remove moasks that touch image edge\n",
    "returnSegs = False # whether to return segmentations as a numpy array\n",
    "addSeg = True # where to add segmentation as a new channel in the tdata\n",
    "\n",
    "tdata.YOLOSAM(diameter,nuc_chan,clear_borderQ=clearborder,returnSegmentations=returnSegs,addSeg2TData=addSeg)\n",
    "\n",
    "# since we added the segmentation to the tdat we can new view it\n",
    "tdata.Plot(plotSegMask=True)"
   ]
  },
  {
   "cell_type": "markdown",
   "id": "58048709-8a8f-4052-bc3f-b815a7624c0a",
   "metadata": {},
   "source": [
    "# Example processing routines"
   ]
  },
  {
   "cell_type": "markdown",
   "id": "54d3eed6-e13d-4c95-9cb7-1fff14287256",
   "metadata": {},
   "source": [
    "this example saves z-projected vesions of the data with a time label added:"
   ]
  },
  {
   "cell_type": "code",
   "execution_count": null,
   "id": "b7eb762e-9075-4255-acbb-934f61dc10d1",
   "metadata": {},
   "outputs": [],
   "source": [
    "root = r'/Volumes/Pure6000/Users/jdelarosa/opera/20240327_HUVECs_20x__2024-03-27T17_48_56-Measurement 1/Images'\n",
    "\n",
    "# this will be the time zeros that the labels we add count from \n",
    "stimulationMoment = datetime.datetime(2024, 3, 8, 10, 32, 18) + datetime.timedelta(minutes=18)\n",
    "\n",
    "xfold = ms.XFold(root,StartTimes=stimulationMoment) \n",
    "\n",
    "outDir = 'LabelledVideos'\n",
    "\n",
    "%%time\n",
    "for i,s in enumerate(xfold.SessionsList): # loop through all Sessions in the folder\n",
    "    print(\"i: \",i)\n",
    "    for f in range(s.NF): # we loop through all fields in the Session\n",
    "        print('f: ',f)\n",
    "        tdata = s.makeTData(F=f) # loading just one field at a time avoids memory problems\n",
    "        tdata.zProject() # do a maximum projection along z\n",
    "        tdata.LabelVideo(roundM=1,style=\"mm:ss\",label_size_divisor=20) # add a label of the time in the bottom right corner of the image\n",
    "        tdata.SaveData(outDir) # note that default behaviour is to divide save files into directories according to field"
   ]
  },
  {
   "cell_type": "markdown",
   "id": "3ae6a01e-3b15-464f-8b12-a8134c4b58d8",
   "metadata": {},
   "source": [
    "here we reload the above data and segment the nuclei"
   ]
  },
  {
   "cell_type": "code",
   "execution_count": null,
   "id": "ad3be676-1966-4912-8716-3147d4ee6337",
   "metadata": {},
   "outputs": [],
   "source": [
    "roots = './XFoldAnalysis_LabelledVideos'\n",
    "xfold2 = ms.XFold(root2)\n",
    "diameter = 14 \n",
    "\n",
    "nuc_chan =0 \n",
    "clearborder = True \n",
    "returnSegs = False \n",
    "outName = 'NuclearSegmentations'\n",
    "\n",
    "xfold2.YOLOSAM(diameter,nuc_chan,clear_borderQ=clearborder,returnSegmentations=returnSegs,saveMasks=outName)"
   ]
  },
  {
   "cell_type": "markdown",
   "id": "49851798-c734-4035-bb44-745d2f5e2c3c",
   "metadata": {},
   "source": [
    "now we load the segmented nuclei to track them through time\n",
    "(i.e. currently the pixel value of the each value is its label but this value changes from time-point to time-point.. this, where possible, gives the same nucleus mask the same label across time points."
   ]
  },
  {
   "cell_type": "code",
   "execution_count": null,
   "id": "6444caa6-cf35-4c0b-bea5-96809aa832b0",
   "metadata": {},
   "outputs": [],
   "source": [
    "root3 = r'./XFoldAnalysis_NuclearSegmentations'\n",
    "xfold3 = ms.XFold(root3)\n",
    "\n",
    "track_out_name = 'TrackedNuclearSegmentations'\n",
    "\n",
    "xfold3.trackSegmentations(track_out_name,removeSmall=1000,saveMasks=True,sessions=[0])"
   ]
  },
  {
   "cell_type": "markdown",
   "id": "c02379da-c1e6-4e46-9182-291f475d3230",
   "metadata": {},
   "source": [
    "in this one we correct a dataset for inhomogenous field-of-view brightness (flat-field correction)"
   ]
  },
  {
   "cell_type": "markdown",
   "id": "1051fdfa-698a-4540-9fe3-8f6e687affb1",
   "metadata": {},
   "source": [
    "an important consideration is that the correction is calculated from all the data in the tdata (separated by channel). So you want enough images to calculate a reliable correction, but not too much to run into memory/time problems. Here we load just one time-point of the data at a time, but load all fields/montage-tiles/z-slices"
   ]
  },
  {
   "cell_type": "code",
   "execution_count": null,
   "id": "9aa491a9-c052-4c05-982b-db8eb612a1c0",
   "metadata": {},
   "outputs": [],
   "source": [
    "root = './RawData'\n",
    "xfold = ms.XFold(root)\n",
    "\n",
    "outName = 'FlatFieldCorrected'\n",
    "\n",
    "for s in xfold.SessionsList:\n",
    "    for t in range(s.NT):\n",
    "        tdata = s.makeTData(T=t)\n",
    "        tdata.BaSiCHomogenise()\n",
    "        tdata.SaveData(outName)"
   ]
  },
  {
   "cell_type": "markdown",
   "id": "b253c953-dea7-4344-9692-ba5d4329d4a9",
   "metadata": {},
   "source": [
    "here we stabilise a video (i.e. remove x-y drift/movements). The function is a bit limited still but worked well on the first datasets I tried"
   ]
  },
  {
   "cell_type": "code",
   "execution_count": null,
   "id": "7f493ae1-03c9-4897-a605-e630d17232c7",
   "metadata": {},
   "outputs": [],
   "source": [
    "root = './RawData'\n",
    "xfold = ms.XFold(root)\n",
    "\n",
    "outName = 'Stabilised'\n",
    "\n",
    "for s in xfold.SessionsList:\n",
    "    for f,m in product(range(s.NF),range(s.NM)): # loop over all fields and montage tiles\n",
    "        tdata = s.makeTData(F=f,M=m,C='BF') # note we load just the bright field channel, by name rather than index\n",
    "        tdata.zProject()\n",
    "        tdata.BaSiCHomogenise()\n",
    "        tdata.SaveData(outName)"
   ]
  }
 ],
 "metadata": {
  "kernelspec": {
   "display_name": "Python 3 (ipykernel)",
   "language": "python",
   "name": "python3"
  },
  "language_info": {
   "codemirror_mode": {
    "name": "ipython",
    "version": 3
   },
   "file_extension": ".py",
   "mimetype": "text/x-python",
   "name": "python",
   "nbconvert_exporter": "python",
   "pygments_lexer": "ipython3",
   "version": "3.11.4"
  }
 },
 "nbformat": 4,
 "nbformat_minor": 5
}
